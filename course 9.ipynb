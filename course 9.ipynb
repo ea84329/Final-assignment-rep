{
 "cells": [
  {
   "cell_type": "markdown",
   "metadata": {
    "collapsed": true
   },
   "source": [
    "### Introduction\n",
    "\n",
    "opening a new restaurant is very challenging, especially in NYC. The city is already filled with many restaurants - from small ones to big chains such as Mcdonalds or pizza hut . So how can we help new business owners find the perfect location for opening a new business? One of the keys for success is being unique - we need to find the best location to start a new business, preferably with the least amount of identical restaurants who offer the same cuisine.\n",
    "we can use the foursquare API to map all the restaurants in NYC , see how they cluster, and find the optimal location for a new one.\n",
    "This could help a small business owner that wants to open a new restaurant in NYC, building its client base from the ground up. You have to get any advantage you can get when you don’t have the attraction of a big name.\n",
    "\n",
    "\n"
   ]
  },
  {
   "cell_type": "markdown",
   "metadata": {},
   "source": [
    "### Data\n",
    "\n",
    "To solve this problem we’ll be using the Foursquare Location data, NYC map and borough coordinates from wikipedia. We’ll get the location of every restaurant in NYC, try to cluster them together and find the optimal location for a new one. We’ll divide the data into groups for specific restaurant types and find the optimal location for each kind.\n",
    "\n",
    "Anyone who  is looking to open a new restaurant in NYC will be interested in finding the best location to open their new business with the most chances to succeed. \n"
   ]
  }
 ],
 "metadata": {
  "kernelspec": {
   "display_name": "Python 3.7",
   "language": "python",
   "name": "python3"
  },
  "language_info": {
   "codemirror_mode": {
    "name": "ipython",
    "version": 3
   },
   "file_extension": ".py",
   "mimetype": "text/x-python",
   "name": "python",
   "nbconvert_exporter": "python",
   "pygments_lexer": "ipython3",
   "version": "3.7.9"
  }
 },
 "nbformat": 4,
 "nbformat_minor": 1
}
